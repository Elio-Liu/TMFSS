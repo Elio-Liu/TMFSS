{
 "cells": [
  {
   "cell_type": "markdown",
   "source": [
    "# Multi-factor selection with IC method\n",
    "\n",
    "## 1. Steps of multi-factor selection"
   ],
   "metadata": {
    "collapsed": false
   }
  },
  {
   "cell_type": "markdown",
   "source": [
    "1. 因子预处理：将候选因子进行预处理，去极值、标准化，以确保因子在同一数量级下可比较。\n",
    "2. 因子打分：使用每个因子对股票进行打分，得到每个股票在每个因子上的得分。\n",
    "3. 因子合成：将每个因子的得分加权合成为一个综合得分,使用等权重方法。\n",
    "4. 分组排序：将股票按照综合得分从高到低排序，并将它们分为5个等权重的组。\n",
    "5. IC计算：计算每个组之问的平均绩效差异，即每个组的平均绩效减去前一个组的平均绩效，得到每个组之问的IC值。\n",
    "6. IC校验：对IC值进行显著性检验，以确定因子是否具有预测股票绩效的能力。\n",
    "7. 因子选择：根据IC值和显著性检验结果，选择最优的因子集合，并使用这些因子进行多因子选股。你能帮我用python实现一下吗？"
   ],
   "metadata": {
    "collapsed": false
   }
  },
  {
   "cell_type": "markdown",
   "source": [
    "## 2. 具体实验操作\n",
    "### 2.1 导入需要的包"
   ],
   "metadata": {
    "collapsed": false
   }
  },
  {
   "cell_type": "code",
   "execution_count": null,
   "outputs": [],
   "source": [
    "import rqalpha as rq\n",
    "import pandas as pd\n",
    "import numpy as np"
   ],
   "metadata": {
    "collapsed": false
   }
  },
  {
   "cell_type": "markdown",
   "source": [
    "### 2.2 数据获取和预处理\n",
    "\n",
    "使用米筐的API获取沪深300指数成分股的历史价格和所有因子数据，并将其合并到一个数据框中进行进一步处理。"
   ],
   "metadata": {
    "collapsed": false
   }
  },
  {
   "cell_type": "code",
   "execution_count": null,
   "outputs": [],
   "source": [
    "# 开始编写你的主要的算法逻辑\n",
    "\n",
    "start_date = '20221201'\n",
    "end_date = '20221231'\n",
    "universe = '000001.XSHE'\n",
    "\n",
    "# 获取股票历史价格数据\n",
    "price_arr = history_bars(universe, 22, '1d', ['close'])\n",
    "price_arr= price_arr['close']\n",
    "price_df = pd.DataFrame(price_arr, columns = ['close'])\n",
    "\n",
    "factor_list = rqc.get_all_factor_names()\n",
    "factor_dict = rqc.get_factor(universe,factor=factor_list[:100],start_date=start_date,end_date=end_date)\n",
    "\n",
    "# 将所有因子数据合并到一个数据框中\n",
    "factor_df = pd.DataFrame(index=price_df.index)\n",
    "\n",
    "for factor_name in factor_dict.keys():\n",
    "    # factor_data is series\n",
    "    factor_data = factor_dict[factor_name]\n",
    "    factor_data = factor_data.reset_index().drop_duplicates(['order_book_id','date'], keep='last')\n",
    "    factor_data = factor_data.pivot(index='date', columns='order_book_id')\n",
    "    factor_data.columns = [factor_name]\n",
    "    factor_data.index = price_df.index\n",
    "    factor_df = pd.concat([factor_df, factor_data], axis=1)\n",
    "\n",
    "# 去极值和标准化处理\n",
    "factor_df = factor_df.clip(lower=factor_df.quantile(0.01), upper=factor_df.quantile(0.99), axis=1)\n",
    "factor_df = (factor_df - factor_df.mean()) / factor_df.std()\n"
   ],
   "metadata": {
    "collapsed": false
   }
  },
  {
   "cell_type": "markdown",
   "source": [
    "### 2.3 因子打分和因子合成\n",
    "\n",
    "使用每个因子对股票进行打分，并将它们合成为一个综合得分。"
   ],
   "metadata": {
    "collapsed": false
   }
  },
  {
   "cell_type": "code",
   "execution_count": null,
   "outputs": [],
   "source": [
    "# 使用每个因子对股票进行打分，并将得分归一化到 0-1 范围\n",
    "factor_score_df = (factor_df.rank(pct=True) * 100).apply(np.floor) / 100\n",
    "\n",
    "# 计算每个股票的综合得分，并使用等权重方法合成\n",
    "score_df = factor_score_df.mean(axis=1)\n",
    "\n",
    "\n"
   ],
   "metadata": {
    "collapsed": false
   }
  },
  {
   "cell_type": "markdown",
   "source": [
    "### 2.4 分组排序\n",
    "\n",
    "将股票按照综合得分从高到低排序，并将它们分为5个等权重的组。"
   ],
   "metadata": {
    "collapsed": false
   }
  },
  {
   "cell_type": "code",
   "execution_count": null,
   "outputs": [],
   "source": [
    "# 将股票按综合得分从高到低排序\n",
    "score_df = score_df.sort_values(ascending=False)\n",
    "# 分为5个等权重的组\n",
    "group_num = 5\n",
    "group_size = len(score_df) // group_num\n",
    "group_list = []\n",
    "for i in range(group_num - 1):\n",
    "    group_list.append(score_df.iloc[i * group_size: (i + 1) * group_size])\n",
    "group_list.append(score_df.iloc[(group_num - 1) * group_size:])\n",
    "\n"
   ],
   "metadata": {
    "collapsed": false
   }
  },
  {
   "cell_type": "markdown",
   "source": [
    "### 2.5 IC计算\n",
    "\n",
    "计算每个组之间的平均绩效差异，即每个组的平均绩效减去前一个组的平均绩效，并得到每个组之间的IC值。"
   ],
   "metadata": {
    "collapsed": false
   }
  },
  {
   "cell_type": "code",
   "execution_count": null,
   "outputs": [],
   "source": [
    "# 计算每个组的平均绩效\n",
    "perf_df = price_df.pct_change().shift(-1)\n",
    "perf_mean_list = []\n",
    "# print(perf_df)\n",
    "for group in group_list:\n",
    "    group_perf = perf_df.loc[group.index].mean(axis=1)\n",
    "    perf_mean_list.append(group_perf.mean())\n",
    "\n",
    "# 计算每个组之间的IC值\n",
    "ic_list = []\n",
    "for i in range(group_num - 1):\n",
    "    ic = perf_mean_list[i + 1] - perf_mean_list[i]\n",
    "    ic_list.append(ic)\n"
   ],
   "metadata": {
    "collapsed": false
   }
  },
  {
   "cell_type": "markdown",
   "source": [
    "### 2.6 IC校验\n",
    "\n",
    "对IC值进行显著性检验，以确定因子是否具有预测股票绩效的能力。这里我们采用t检验进行检验，显著性水平为0.05。"
   ],
   "metadata": {
    "collapsed": false
   }
  },
  {
   "cell_type": "code",
   "execution_count": null,
   "outputs": [],
   "source": [
    "from scipy.stats import ttest_ind\n",
    "\n",
    "# 进行t检验\n",
    "t, p = ttest_ind(ic_list, np.zeros(len(ic_list)), equal_var=False)\n",
    "\n",
    "# 显示检验结果\n",
    "if p < 0.05:\n",
    "    print(\"IC值显著不为0，因子具有预测股票绩效的能力。\")\n",
    "else:\n",
    "    print(\"IC值不显著为0，因子不具有预测股票绩效的能力。\")\n"
   ],
   "metadata": {
    "collapsed": false
   }
  },
  {
   "cell_type": "markdown",
   "source": [
    "### 2.7 因子选择\n",
    "\n",
    "根据IC值和显著性检验结果，选择最优的因子集合，并使用这些因子进行多因子选股。这里我们选择IC值最大的前5个因子进行选股。"
   ],
   "metadata": {
    "collapsed": false
   }
  },
  {
   "cell_type": "code",
   "execution_count": null,
   "outputs": [],
   "source": [
    "# 选择IC值最大的前5个因子\n",
    "selected_factors = factor_df.corrwith(score_df).abs().nlargest(5).index.tolist()\n",
    "\n",
    "print(\"选定的因子为：\", selected_factors)\n",
    "\n",
    "# 使用选定的因子进行多因子选股\n",
    "selected_stock = factor_df[selected_factors].rank(pct=True).mean(axis=1).nlargest(10).index.tolist()\n",
    "print(\"选定的股票为：\", selected_stock)"
   ],
   "metadata": {
    "collapsed": false
   }
  }
 ],
 "metadata": {
  "kernelspec": {
   "display_name": "Python 3",
   "language": "python",
   "name": "python3"
  },
  "language_info": {
   "codemirror_mode": {
    "name": "ipython",
    "version": 2
   },
   "file_extension": ".py",
   "mimetype": "text/x-python",
   "name": "python",
   "nbconvert_exporter": "python",
   "pygments_lexer": "ipython2",
   "version": "2.7.6"
  }
 },
 "nbformat": 4,
 "nbformat_minor": 0
}
