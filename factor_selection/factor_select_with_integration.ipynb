{
 "cells": [
  {
   "cell_type": "markdown",
   "source": [
    "# 基于集成思想的多因子筛选\n",
    "\n",
    "## 1. 导入依赖库"
   ],
   "metadata": {
    "collapsed": false
   }
  },
  {
   "cell_type": "code",
   "execution_count": null,
   "outputs": [],
   "source": [
    "import numpy as np\n",
    "import pandas as pd\n",
    "from sklearn.svm import SVC\n",
    "from sklearn.ensemble import RandomForestClassifier, GradientBoostingClassifier\n",
    "from sklearn.metrics import roc_auc_score\n",
    "import alphalens"
   ],
   "metadata": {
    "collapsed": false
   }
  },
  {
   "cell_type": "markdown",
   "source": [
    "## 2. 数据准备"
   ],
   "metadata": {
    "collapsed": false
   }
  },
  {
   "cell_type": "code",
   "execution_count": null,
   "outputs": [],
   "source": [
    "factor_data = pd.read_csv('../data/data.csv', parse_dates=True, index_col=['date','asset'])\n",
    "prices = pd.read_csv('../data/prices.csv', parse_dates=True, index_col=['date'])\n",
    "\n",
    "# 分割数据集\n",
    "train_data = factor_data.loc[\"2010\":\"2018\"]\n",
    "test_data = factor_data.loc[\"2019\":\"2020\"]"
   ],
   "metadata": {
    "collapsed": false
   }
  },
  {
   "cell_type": "markdown",
   "source": [
    "## 3. 因子筛选\n",
    "\n",
    "### 3.1 初始化因子重要性字典"
   ],
   "metadata": {
    "collapsed": false
   }
  },
  {
   "cell_type": "code",
   "execution_count": null,
   "outputs": [],
   "source": [
    "# 初始化因子重要性字典\n",
    "factor_importance = {}"
   ],
   "metadata": {
    "collapsed": false
   }
  },
  {
   "cell_type": "markdown",
   "source": [
    "### 3.2 IC打分法"
   ],
   "metadata": {
    "collapsed": false
   }
  },
  {
   "cell_type": "code",
   "execution_count": null,
   "outputs": [],
   "source": [
    "# IC打分法\n",
    "ic_scores = train_data.groupby(level=1).apply(lambda x: x.corrwith(x['target_variable'], method='spearman'))\n",
    "factor_importance['ic_scores'] = np.abs(ic_scores)"
   ],
   "metadata": {
    "collapsed": false
   }
  },
  {
   "cell_type": "markdown",
   "source": [
    "### 3.3 SVM"
   ],
   "metadata": {
    "collapsed": false
   }
  },
  {
   "cell_type": "code",
   "execution_count": null,
   "outputs": [],
   "source": [
    "# SVM\n",
    "svm_model = SVC(probability=True)\n",
    "svm_model.fit(train_data.iloc[:, :-1], train_data['target_variable'])\n",
    "svm_scores = svm_model.predict_proba(test_data.iloc[:, :-1])[:, 1]\n",
    "factor_importance['svm_scores'] = svm_scores"
   ],
   "metadata": {
    "collapsed": false
   }
  },
  {
   "cell_type": "markdown",
   "source": [
    "### 3.4 随机森林"
   ],
   "metadata": {
    "collapsed": false
   }
  },
  {
   "cell_type": "code",
   "execution_count": null,
   "outputs": [],
   "source": [
    "# 随机森林\n",
    "random_forest = RandomForestClassifier(n_estimators=100, random_state=0)\n",
    "random_forest.fit(train_data.iloc[:, :-1], train_data['target_variable'])\n",
    "rf_scores = random_forest.predict_proba(test_data.iloc[:, :-1])[:, 1]\n",
    "factor_importance['rf_scores'] = rf_scores"
   ],
   "metadata": {
    "collapsed": false
   }
  },
  {
   "cell_type": "markdown",
   "source": [
    "### 3.5 梯度提升决策树"
   ],
   "metadata": {
    "collapsed": false
   }
  },
  {
   "cell_type": "code",
   "execution_count": null,
   "outputs": [],
   "source": [
    "# 梯度提升决策树\n",
    "gradient_boosting = GradientBoostingClassifier(n_estimators=100, random_state=0)\n",
    "gradient_boosting.fit(train_data.iloc[:, :-1], train_data['target_variable'])\n",
    "gb_scores = gradient_boosting.predict_proba(test_data.iloc[:, :-1])[:, 1]\n",
    "factor_importance['gb_scores'] = gb_scores"
   ],
   "metadata": {
    "collapsed": false
   }
  },
  {
   "cell_type": "markdown",
   "source": [
    "## 4. 集成因子重要性"
   ],
   "metadata": {
    "collapsed": false
   }
  },
  {
   "cell_type": "code",
   "execution_count": null,
   "outputs": [],
   "source": [
    "# 计算因子重要性的加权平均值\n",
    "weights = [0.25, 0.25, 0.25, 0.25]  # 根据个人需求分配权重\n",
    "ensemble_importance = np.average(list(factor_importance.values()), axis=0, weights=weights)\n"
   ],
   "metadata": {
    "collapsed": false
   }
  },
  {
   "cell_type": "markdown",
   "source": [
    "## 5. 因子筛选"
   ],
   "metadata": {
    "collapsed": false
   }
  },
  {
   "cell_type": "code",
   "execution_count": null,
   "outputs": [],
   "source": [
    "# 根据集成因子重要性的排序选择排名靠前的因子作为筛选结果\n",
    "selected_factors = train_data.columns[:-1][np.argsort(ensemble_importance)[::-1]]"
   ],
   "metadata": {
    "collapsed": false
   }
  },
  {
   "cell_type": "markdown",
   "source": [],
   "metadata": {
    "collapsed": false
   }
  },
  {
   "cell_type": "code",
   "execution_count": null,
   "outputs": [],
   "source": [
    "import numpy as np\n",
    "import pandas as pd\n",
    "from sklearn.svm import SVR\n",
    "from sklearn.ensemble import RandomForestRegressor, GradientBoostingRegressor\n",
    "from sklearn.metrics import mean_squared_error\n",
    "\n",
    "# 1. 数据准备\n",
    "# 假设你的因子数据已经保存在一个名为\"factor_data.csv\"的文件中，以股票为行，以因子为列\n",
    "factor_data = pd.read_csv(\"factor_data.csv\", header=[0, 1], index_col=[0, 1])\n",
    "\n",
    "# 2. 分割数据集\n",
    "train_data = factor_data.loc[\"2010\":\"2018\"]\n",
    "test_data = factor_data.loc[\"2019\":\"2020\"]\n",
    "\n",
    "# 获取训练集和测试集的收盘价\n",
    "train_closes = train_data['Close']\n",
    "test_closes = test_data['Close']\n",
    "\n",
    "# 3. 因子筛选技术\n",
    "# 初始化因子重要性字典\n",
    "factor_importance = {}\n",
    "\n",
    "# IC打分法\n",
    "ic_scores = train_data.groupby(level=1).apply(lambda x: x.corrwith(x['Close'], method='spearman'))\n",
    "factor_importance['ic_scores'] = np.abs(ic_scores)\n",
    "\n",
    "# SVM回归\n",
    "svm_model = SVR()\n",
    "svm_model.fit(train_data.iloc[:, :-1], train_closes)\n",
    "svm_predictions = svm_model.predict(test_data.iloc[:, :-1])\n",
    "factor_importance['svm_predictions'] = np.abs(svm_predictions)\n",
    "\n",
    "# 随机森林回归\n",
    "random_forest = RandomForestRegressor(n_estimators=100, random_state=0)\n",
    "random_forest.fit(train_data.iloc[:, :-1], train_closes)\n",
    "rf_predictions = random_forest.predict(test_data.iloc[:, :-1])\n",
    "factor_importance['rf_predictions'] = np.abs(rf_predictions)\n",
    "\n",
    "# 梯度提升决策树回归\n",
    "gradient_boosting = GradientBoostingRegressor(n_estimators=100, random_state=0)\n",
    "gradient_boosting.fit(train_data.iloc[:, :-1], train_closes)\n",
    "gb_predictions = gradient_boosting.predict(test_data.iloc[:, :-1])\n",
    "factor_importance['gb_predictions'] = np.abs(gb_predictions)\n",
    "\n",
    "# 4. 集成因子重要性\n",
    "# 计算因子重要性的加权平均值\n",
    "weights = [0.25, 0.25, 0.25, 0.25]  # 根据个人需求分配权重\n",
    "ensemble_importance = np.average(list(factor_importance.values()), axis=0, weights=weights)\n",
    "\n",
    "# 5. 因子筛选\n",
    "# 根据集成因子重要性的排序选择排名靠前的因子作为筛选结果\n",
    "selected_factors = train_data.columns[:-1][np.argsort(ensemble_importance)[::-1]]\n",
    "\n",
    "# 输出筛选结果\n",
    "print(\"Selected Factors:\")\n",
    "for factor in selected_factors:\n",
    "    print(factor)\n"
   ],
   "metadata": {
    "collapsed": false
   }
  }
 ],
 "metadata": {
  "kernelspec": {
   "display_name": "Python 3",
   "language": "python",
   "name": "python3"
  },
  "language_info": {
   "codemirror_mode": {
    "name": "ipython",
    "version": 2
   },
   "file_extension": ".py",
   "mimetype": "text/x-python",
   "name": "python",
   "nbconvert_exporter": "python",
   "pygments_lexer": "ipython2",
   "version": "2.7.6"
  }
 },
 "nbformat": 4,
 "nbformat_minor": 0
}
